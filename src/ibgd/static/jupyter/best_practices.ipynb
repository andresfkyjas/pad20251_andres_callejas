{
 "cells": [
  {
   "cell_type": "markdown",
   "metadata": {
    "application/vnd.databricks.v1+cell": {
     "cellMetadata": {},
     "inputWidgets": {},
     "nuid": "f2707274-fe11-4332-a8f2-1dcca21470f0",
     "showTitle": false,
     "tableResultSettingsMap": {},
     "title": ""
    }
   },
   "source": [
    "## Instalacion dependias"
   ]
  },
  {
   "cell_type": "code",
   "execution_count": 0,
   "metadata": {
    "application/vnd.databricks.v1+cell": {
     "cellMetadata": {
      "byteLimit": 2048000,
      "rowLimit": 10000
     },
     "inputWidgets": {},
     "nuid": "7e460bba-8633-4788-946d-ab2e36f2cf4f",
     "showTitle": false,
     "tableResultSettingsMap": {},
     "title": ""
    }
   },
   "outputs": [
    {
     "output_type": "stream",
     "name": "stdout",
     "output_type": "stream",
     "text": [
      "Requirement already satisfied: pip in /local_disk0/.ephemeral_nfs/envs/pythonEnv-c02608cc-a73f-4c3e-b5b6-476eea020a87/lib/python3.9/site-packages (25.0.1)\r\nRequirement already satisfied: requests in /databricks/python3/lib/python3.9/site-packages (2.27.1)\r\nRequirement already satisfied: pandas in /databricks/python3/lib/python3.9/site-packages (1.4.2)\r\nCollecting openpyxl\r\n  Downloading openpyxl-3.1.5-py2.py3-none-any.whl.metadata (2.5 kB)\r\nRequirement already satisfied: urllib3<1.27,>=1.21.1 in /databricks/python3/lib/python3.9/site-packages (from requests) (1.26.9)\r\nRequirement already satisfied: certifi>=2017.4.17 in /databricks/python3/lib/python3.9/site-packages (from requests) (2021.10.8)\r\nRequirement already satisfied: charset-normalizer~=2.0.0 in /databricks/python3/lib/python3.9/site-packages (from requests) (2.0.4)\r\nRequirement already satisfied: idna<4,>=2.5 in /databricks/python3/lib/python3.9/site-packages (from requests) (3.3)\r\nRequirement already satisfied: python-dateutil>=2.8.1 in /databricks/python3/lib/python3.9/site-packages (from pandas) (2.8.2)\r\nRequirement already satisfied: pytz>=2020.1 in /databricks/python3/lib/python3.9/site-packages (from pandas) (2021.3)\r\nRequirement already satisfied: numpy>=1.18.5 in /databricks/python3/lib/python3.9/site-packages (from pandas) (1.21.5)\r\nCollecting et-xmlfile (from openpyxl)\r\n  Downloading et_xmlfile-2.0.0-py3-none-any.whl.metadata (2.7 kB)\r\nRequirement already satisfied: six>=1.5 in /databricks/python3/lib/python3.9/site-packages (from python-dateutil>=2.8.1->pandas) (1.16.0)\r\nDownloading openpyxl-3.1.5-py2.py3-none-any.whl (250 kB)\r\nDownloading et_xmlfile-2.0.0-py3-none-any.whl (18 kB)\r\nInstalling collected packages: et-xmlfile, openpyxl\r\nSuccessfully installed et-xmlfile-2.0.0 openpyxl-3.1.5\r\n"
     ]
    }
   ],
   "source": [
    "!python -m pip install --upgrade pip\n",
    "!pip install requests pandas openpyxl"
   ]
  },
  {
   "cell_type": "markdown",
   "metadata": {
    "application/vnd.databricks.v1+cell": {
     "cellMetadata": {},
     "inputWidgets": {},
     "nuid": "55f6f2b2-bf3c-4d67-8325-c71db1d721f0",
     "showTitle": false,
     "tableResultSettingsMap": {},
     "title": ""
    }
   },
   "source": [
    "## importaciones"
   ]
  },
  {
   "cell_type": "code",
   "execution_count": 0,
   "metadata": {
    "application/vnd.databricks.v1+cell": {
     "cellMetadata": {
      "byteLimit": 2048000,
      "rowLimit": 10000
     },
     "inputWidgets": {},
     "nuid": "c4fa0318-9b01-4979-9ea6-918437993e25",
     "showTitle": false,
     "tableResultSettingsMap": {},
     "title": ""
    }
   },
   "outputs": [],
   "source": [
    "import requests \n",
    "import pandas as pd\n",
    "import openpyxl"
   ]
  },
  {
   "cell_type": "markdown",
   "metadata": {
    "application/vnd.databricks.v1+cell": {
     "cellMetadata": {
      "byteLimit": 2048000,
      "rowLimit": 10000
     },
     "inputWidgets": {},
     "nuid": "c75afc0a-6005-4eee-b149-4e12b2ea47af",
     "showTitle": false,
     "tableResultSettingsMap": {},
     "title": ""
    }
   },
   "source": [
    "## Creación de una esquema \n",
    "\n",
    "```mermaid\n",
    "\n",
    "flowchart TD\n",
    "    ventas[Esquema: ventas]\n",
    "    medellin[(vtn_medellin)]\n",
    "    bogota[(vtn_bogota)]\n",
    "    \n",
    "    ventas --> medellin\n",
    "    ventas --> bogota"
   ]
  },
  {
   "cell_type": "code",
   "execution_count": 0,
   "metadata": {
    "application/vnd.databricks.v1+cell": {
     "cellMetadata": {
      "byteLimit": 2048000,
      "implicitDf": true,
      "rowLimit": 10000
     },
     "inputWidgets": {},
     "nuid": "88e5fd7a-706a-488a-8059-b0a36b9c79f6",
     "showTitle": false,
     "tableResultSettingsMap": {},
     "title": ""
    }
   },
   "outputs": [
    {
     "output_type": "display_data",
     "data": {
      "text/html": [
       "<style scoped>\n",
       "  .table-result-container {\n",
       "    max-height: 300px;\n",
       "    overflow: auto;\n",
       "  }\n",
       "  table, th, td {\n",
       "    border: 1px solid black;\n",
       "    border-collapse: collapse;\n",
       "  }\n",
       "  th, td {\n",
       "    padding: 5px;\n",
       "  }\n",
       "  th {\n",
       "    text-align: left;\n",
       "  }\n",
       "</style><div class='table-result-container'><table class='table-result'><thead style='background-color: white'><tr></tr></thead><tbody></tbody></table></div>"
      ]
     },
     "metadata": {
      "application/vnd.databricks.v1+output": {
       "addedWidgets": {},
       "aggData": [],
       "aggError": "",
       "aggOverflow": false,
       "aggSchema": [],
       "aggSeriesLimitReached": false,
       "aggType": "",
       "arguments": {},
       "columnCustomDisplayInfos": {},
       "data": [],
       "datasetInfos": [],
       "dbfsResultPath": null,
       "isJsonSchema": true,
       "metadata": {},
       "overflow": false,
       "plotOptions": {
        "customPlotOptions": {},
        "displayType": "table",
        "pivotAggregation": null,
        "pivotColumns": null,
        "xColumns": null,
        "yColumns": null
       },
       "removedWidgets": [],
       "schema": [],
       "type": "table"
      }
     },
     "output_type": "display_data"
    }
   ],
   "source": [
    "%sql\n",
    "CREATE DATABASE IF NOT EXISTS ventas;"
   ]
  },
  {
   "cell_type": "code",
   "execution_count": 0,
   "metadata": {
    "application/vnd.databricks.v1+cell": {
     "cellMetadata": {
      "byteLimit": 2048000,
      "rowLimit": 10000
     },
     "inputWidgets": {},
     "nuid": "93c9abac-21ea-40ed-b440-6e2b0ae3f952",
     "showTitle": false,
     "tableResultSettingsMap": {},
     "title": ""
    }
   },
   "outputs": [],
   "source": [
    "def obtener_datos_api(url=\"\"):\n",
    "    parametros=1\n",
    "    if parametros==0:\n",
    "        url = \"{}/{}/{}/\".format(url,params[\"coin\"],params[\"method\"])\n",
    "    else:\n",
    "        url = url\n",
    "        \n",
    "    try:\n",
    "        response = requests.get(url)\n",
    "        response.raise_for_status()\n",
    "        return response.json()\n",
    "    except requests.exceptions.RequestException as error:\n",
    "        print(error)\n",
    "        return {}\n",
    "\n",
    "url= \"https://www.amiiboapi.com/api/amiibo/?name=mario\"\n",
    "datos = obtener_datos_api(url=url)"
   ]
  },
  {
   "cell_type": "code",
   "execution_count": 0,
   "metadata": {
    "application/vnd.databricks.v1+cell": {
     "cellMetadata": {
      "byteLimit": 2048000,
      "rowLimit": 10000
     },
     "inputWidgets": {},
     "nuid": "c2b0b881-b405-4008-961b-120648ea9255",
     "showTitle": false,
     "tableResultSettingsMap": {},
     "title": ""
    }
   },
   "outputs": [
    {
     "output_type": "stream",
     "name": "stdout",
     "output_type": "stream",
     "text": [
      "{'amiibo': [{'amiiboSeries': 'Mario Sports Superstars', 'character': 'Metal Mario', 'gameSeries': 'Mario Sports Superstars', 'head': '09d00301', 'image': 'https://raw.githubusercontent.com/N3evin/AmiiboAPI/master/images/icon_09d00301-02bb0e02.png', 'name': 'Metal Mario - Tennis', 'release': {'au': '2017-03-11', 'eu': '2017-03-10', 'jp': '2017-03-30', 'na': '2017-03-24'}, 'tail': '02bb0e02', 'type': 'Card'}, {'amiiboSeries': 'Others', 'character': 'Mario Cereal', 'gameSeries': 'Kellogs', 'head': '37400001', 'image': 'https://raw.githubusercontent.com/N3evin/AmiiboAPI/master/images/icon_37400001-03741402.png', 'name': 'Super Mario Cereal', 'release': {'au': None, 'eu': None, 'jp': None, 'na': '2017-12-11'}, 'tail': '03741402', 'type': 'Card'}, {'amiiboSeries': 'Mario Sports Superstars', 'character': 'Baby Mario', 'gameSeries': 'Mario Sports Superstars', 'head': '09cc0101', 'image': 'https://raw.githubusercontent.com/N3evin/AmiiboAPI/master/images/icon_09cc0101-02a50e02.png', 'name': 'Baby Mario - Soccer', 'release': {'au': '2017-03-11', 'eu': '2017-03-10', 'jp': '2017-03-30', 'na': '2017-03-24'}, 'tail': '02a50e02', 'type': 'Card'}, {'amiiboSeries': 'Mario Sports Superstars', 'character': 'Metal Mario', 'gameSeries': 'Mario Sports Superstars', 'head': '09d00101', 'image': 'https://raw.githubusercontent.com/N3evin/AmiiboAPI/master/images/icon_09d00101-02b90e02.png', 'name': 'Metal Mario - Soccer', 'release': {'au': '2017-03-11', 'eu': '2017-03-10', 'jp': '2017-03-30', 'na': '2017-03-24'}, 'tail': '02b90e02', 'type': 'Card'}, {'amiiboSeries': 'Mario Sports Superstars', 'character': 'Mario', 'gameSeries': 'Mario Sports Superstars', 'head': '09c00101', 'image': 'https://raw.githubusercontent.com/N3evin/AmiiboAPI/master/images/icon_09c00101-02690e02.png', 'name': 'Mario - Soccer', 'release': {'au': '2017-03-11', 'eu': '2017-03-10', 'jp': '2017-03-30', 'na': '2017-03-24'}, 'tail': '02690e02', 'type': 'Card'}, {'amiiboSeries': 'Super Mario Bros.', 'character': 'Mario', 'gameSeries': 'Super Mario', 'head': '00000000', 'image': 'https://raw.githubusercontent.com/N3evin/AmiiboAPI/master/images/icon_00000000-00340102.png', 'name': 'Mario', 'release': {'au': '2015-03-21', 'eu': '2015-03-20', 'jp': '2015-03-12', 'na': '2015-03-20'}, 'tail': '00340102', 'type': 'Figure'}, {'amiiboSeries': '8-bit Mario', 'character': 'Mario', 'gameSeries': 'Super Mario', 'head': '00000000', 'image': 'https://raw.githubusercontent.com/N3evin/AmiiboAPI/master/images/icon_00000000-02390602.png', 'name': '8-Bit Mario Modern Color', 'release': {'au': '2015-10-24', 'eu': '2015-10-23', 'jp': '2015-09-10', 'na': '2015-09-11'}, 'tail': '02390602', 'type': 'Figure'}, {'amiiboSeries': 'Super Smash Bros.', 'character': 'Mario', 'gameSeries': 'Super Mario', 'head': '00000100', 'image': 'https://raw.githubusercontent.com/N3evin/AmiiboAPI/master/images/icon_00000100-00190002.png', 'name': 'Dr. Mario', 'release': {'au': '2015-07-23', 'eu': '2015-07-17', 'jp': '2015-07-17', 'na': '2015-09-11'}, 'tail': '00190002', 'type': 'Figure'}, {'amiiboSeries': 'Mario Sports Superstars', 'character': 'Baby Mario', 'gameSeries': 'Mario Sports Superstars', 'head': '09cc0501', 'image': 'https://raw.githubusercontent.com/N3evin/AmiiboAPI/master/images/icon_09cc0501-02a90e02.png', 'name': 'Baby Mario - Horse Racing', 'release': {'au': '2017-03-11', 'eu': '2017-03-10', 'jp': '2017-03-30', 'na': '2017-03-24'}, 'tail': '02a90e02', 'type': 'Card'}, {'amiiboSeries': 'Super Mario Bros.', 'character': 'Mario', 'gameSeries': 'Super Mario', 'head': '00000300', 'image': 'https://raw.githubusercontent.com/N3evin/AmiiboAPI/master/images/icon_00000300-03a60102.png', 'name': 'Mario - Cat', 'release': {'au': '2021-02-12', 'eu': '2021-02-12', 'jp': '2021-02-12', 'na': '2021-02-12'}, 'tail': '03a60102', 'type': 'Figure'}, {'amiiboSeries': 'Mario Sports Superstars', 'character': 'Baby Mario', 'gameSeries': 'Mario Sports Superstars', 'head': '09cc0401', 'image': 'https://raw.githubusercontent.com/N3evin/AmiiboAPI/master/images/icon_09cc0401-02a80e02.png', 'name': 'Baby Mario - Golf', 'release': {'au': '2017-03-11', 'eu': '2017-03-10', 'jp': '2017-03-30', 'na': '2017-03-24'}, 'tail': '02a80e02', 'type': 'Card'}, {'amiiboSeries': 'Super Mario Bros.', 'character': 'Mario', 'gameSeries': 'Super Mario', 'head': '00000000', 'image': 'https://raw.githubusercontent.com/N3evin/AmiiboAPI/master/images/icon_00000000-03710102.png', 'name': 'Mario - Wedding', 'release': {'au': '2017-10-27', 'eu': '2017-10-27', 'jp': '2017-10-27', 'na': '2017-10-27'}, 'tail': '03710102', 'type': 'Figure'}, {'amiiboSeries': 'Mario Sports Superstars', 'character': 'Metal Mario', 'gameSeries': 'Mario Sports Superstars', 'head': '09d00401', 'image': 'https://raw.githubusercontent.com/N3evin/AmiiboAPI/master/images/icon_09d00401-02bc0e02.png', 'name': 'Metal Mario - Golf', 'release': {'au': '2017-03-11', 'eu': '2017-03-10', 'jp': '2017-03-30', 'na': '2017-03-24'}, 'tail': '02bc0e02', 'type': 'Card'}, {'amiiboSeries': 'Super Smash Bros.', 'character': 'Mario', 'gameSeries': 'Super Mario', 'head': '00000000', 'image': 'https://raw.githubusercontent.com/N3evin/AmiiboAPI/master/images/icon_00000000-00000002.png', 'name': 'Mario', 'release': {'au': '2014-11-29', 'eu': '2014-11-28', 'jp': '2014-12-06', 'na': '2014-11-21'}, 'tail': '00000002', 'type': 'Figure'}, {'amiiboSeries': 'Mario Sports Superstars', 'character': 'Mario', 'gameSeries': 'Mario Sports Superstars', 'head': '09c00301', 'image': 'https://raw.githubusercontent.com/N3evin/AmiiboAPI/master/images/icon_09c00301-026b0e02.png', 'name': 'Mario - Tennis', 'release': {'au': '2017-03-11', 'eu': '2017-03-10', 'jp': '2017-03-30', 'na': '2017-03-24'}, 'tail': '026b0e02', 'type': 'Card'}, {'amiiboSeries': 'Mario Sports Superstars', 'character': 'Baby Mario', 'gameSeries': 'Mario Sports Superstars', 'head': '09cc0301', 'image': 'https://raw.githubusercontent.com/N3evin/AmiiboAPI/master/images/icon_09cc0301-02a70e02.png', 'name': 'Baby Mario - Tennis', 'release': {'au': '2017-03-11', 'eu': '2017-03-10', 'jp': '2017-03-30', 'na': '2017-03-24'}, 'tail': '02a70e02', 'type': 'Card'}, {'amiiboSeries': 'Super Mario Bros.', 'character': 'Mario', 'gameSeries': 'Super Mario', 'head': '00000000', 'image': 'https://raw.githubusercontent.com/N3evin/AmiiboAPI/master/images/icon_00000000-003c0102.png', 'name': 'Mario - Gold Edition', 'release': {'au': '2015-06-25', 'eu': None, 'jp': '2015-12-17', 'na': '2015-03-20'}, 'tail': '003c0102', 'type': 'Figure'}, {'amiiboSeries': 'Super Nintendo World', 'character': 'Mario', 'gameSeries': 'Super Mario', 'head': '00000003', 'image': 'https://raw.githubusercontent.com/N3evin/AmiiboAPI/master/images/icon_00000003-039bff02.png', 'name': 'Mario - Power Up Band', 'release': {'au': None, 'eu': None, 'jp': '2021-02-04', 'na': None}, 'tail': '039bff02', 'type': 'Band'}, {'amiiboSeries': 'Mario Sports Superstars', 'character': 'Metal Mario', 'gameSeries': 'Mario Sports Superstars', 'head': '09d00501', 'image': 'https://raw.githubusercontent.com/N3evin/AmiiboAPI/master/images/icon_09d00501-02bd0e02.png', 'name': 'Metal Mario - Horse Racing', 'release': {'au': '2017-03-11', 'eu': '2017-03-10', 'jp': '2017-03-30', 'na': '2017-03-24'}, 'tail': '02bd0e02', 'type': 'Card'}, {'amiiboSeries': 'Mario Sports Superstars', 'character': 'Baby Mario', 'gameSeries': 'Mario Sports Superstars', 'head': '09cc0201', 'image': 'https://raw.githubusercontent.com/N3evin/AmiiboAPI/master/images/icon_09cc0201-02a60e02.png', 'name': 'Baby Mario - Baseball', 'release': {'au': '2017-03-11', 'eu': '2017-03-10', 'jp': '2017-03-30', 'na': '2017-03-24'}, 'tail': '02a60e02', 'type': 'Card'}, {'amiiboSeries': 'Mario Sports Superstars', 'character': 'Mario', 'gameSeries': 'Mario Sports Superstars', 'head': '09c00401', 'image': 'https://raw.githubusercontent.com/N3evin/AmiiboAPI/master/images/icon_09c00401-026c0e02.png', 'name': 'Mario - Golf', 'release': {'au': '2017-03-11', 'eu': '2017-03-10', 'jp': '2017-03-30', 'na': '2017-03-24'}, 'tail': '026c0e02', 'type': 'Card'}, {'amiiboSeries': 'Super Mario Bros.', 'character': 'Mario', 'gameSeries': 'Super Mario', 'head': '00000000', 'image': 'https://raw.githubusercontent.com/N3evin/AmiiboAPI/master/images/icon_00000000-003d0102.png', 'name': 'Mario - Silver Edition', 'release': {'au': '2015-05-30', 'eu': None, 'jp': None, 'na': '2015-05-29'}, 'tail': '003d0102', 'type': 'Figure'}, {'amiiboSeries': 'Mario Sports Superstars', 'character': 'Mario', 'gameSeries': 'Mario Sports Superstars', 'head': '09c00501', 'image': 'https://raw.githubusercontent.com/N3evin/AmiiboAPI/master/images/icon_09c00501-026d0e02.png', 'name': 'Mario - Horse Racing', 'release': {'au': '2017-03-11', 'eu': '2017-03-10', 'jp': '2017-03-30', 'na': '2017-03-24'}, 'tail': '026d0e02', 'type': 'Card'}, {'amiiboSeries': '8-bit Mario', 'character': 'Mario', 'gameSeries': 'Super Mario', 'head': '00000000', 'image': 'https://raw.githubusercontent.com/N3evin/AmiiboAPI/master/images/icon_00000000-02380602.png', 'name': '8-Bit Mario Classic Color', 'release': {'au': '2015-09-12', 'eu': '2015-11-09', 'jp': '2015-09-10', 'na': '2015-09-11'}, 'tail': '02380602', 'type': 'Figure'}, {'amiiboSeries': 'Mario Sports Superstars', 'character': 'Metal Mario', 'gameSeries': 'Mario Sports Superstars', 'head': '09d00201', 'image': 'https://raw.githubusercontent.com/N3evin/AmiiboAPI/master/images/icon_09d00201-02ba0e02.png', 'name': 'Metal Mario - Baseball', 'release': {'au': '2017-03-11', 'eu': '2017-03-10', 'jp': '2017-03-30', 'na': '2017-03-24'}, 'tail': '02ba0e02', 'type': 'Card'}, {'amiiboSeries': 'Mario Sports Superstars', 'character': 'Mario', 'gameSeries': 'Mario Sports Superstars', 'head': '09c00201', 'image': 'https://raw.githubusercontent.com/N3evin/AmiiboAPI/master/images/icon_09c00201-026a0e02.png', 'name': 'Mario - Baseball', 'release': {'au': '2017-03-11', 'eu': '2017-03-10', 'jp': '2017-03-30', 'na': '2017-03-24'}, 'tail': '026a0e02', 'type': 'Card'}]}\n"
     ]
    }
   ],
   "source": [
    "print(datos)"
   ]
  },
  {
   "cell_type": "code",
   "execution_count": 0,
   "metadata": {
    "application/vnd.databricks.v1+cell": {
     "cellMetadata": {
      "byteLimit": 2048000,
      "rowLimit": 10000
     },
     "inputWidgets": {},
     "nuid": "41c7f949-bc95-4192-b835-9fda63e3f589",
     "showTitle": false,
     "tableResultSettingsMap": {},
     "title": ""
    }
   },
   "outputs": [],
   "source": [
    "def crear_base_de_datos(diccionario: dict) -> pd.DataFrame:\n",
    "    \"\"\"\n",
    "    Recibe un diccionario y retorna un DataFrame de pandas.\n",
    "    \n",
    "    Parámetros:\n",
    "        diccionario (dict): Diccionario con los datos.\n",
    "    \n",
    "    Retorna:\n",
    "        pd.DataFrame: DataFrame que representa la base de datos creada a partir del diccionario.\n",
    "    \"\"\"\n",
    "    lista_amiibo = diccionario[\"amiibo\"]\n",
    "    df = pd.DataFrame(lista_amiibo)\n",
    "    return df\n",
    "df = crear_base_de_datos(datos)"
   ]
  },
  {
   "cell_type": "code",
   "execution_count": 0,
   "metadata": {
    "application/vnd.databricks.v1+cell": {
     "cellMetadata": {
      "byteLimit": 2048000,
      "rowLimit": 10000
     },
     "inputWidgets": {},
     "nuid": "adfa5f79-596e-4294-8723-13b66b44b781",
     "showTitle": false,
     "tableResultSettingsMap": {},
     "title": ""
    }
   },
   "outputs": [
    {
     "output_type": "stream",
     "name": "stdout",
     "output_type": "stream",
     "text": [
      "              amiiboSeries     character               gameSeries      head  \\\n0  Mario Sports Superstars   Metal Mario  Mario Sports Superstars  09d00301   \n1                   Others  Mario Cereal                  Kellogs  37400001   \n2  Mario Sports Superstars    Baby Mario  Mario Sports Superstars  09cc0101   \n3  Mario Sports Superstars   Metal Mario  Mario Sports Superstars  09d00101   \n4  Mario Sports Superstars         Mario  Mario Sports Superstars  09c00101   \n\n                                               image                  name  \\\n0  https://raw.githubusercontent.com/N3evin/Amiib...  Metal Mario - Tennis   \n1  https://raw.githubusercontent.com/N3evin/Amiib...    Super Mario Cereal   \n2  https://raw.githubusercontent.com/N3evin/Amiib...   Baby Mario - Soccer   \n3  https://raw.githubusercontent.com/N3evin/Amiib...  Metal Mario - Soccer   \n4  https://raw.githubusercontent.com/N3evin/Amiib...        Mario - Soccer   \n\n                                             release      tail  type  \n0  {'au': '2017-03-11', 'eu': '2017-03-10', 'jp':...  02bb0e02  Card  \n1  {'au': None, 'eu': None, 'jp': None, 'na': '20...  03741402  Card  \n2  {'au': '2017-03-11', 'eu': '2017-03-10', 'jp':...  02a50e02  Card  \n3  {'au': '2017-03-11', 'eu': '2017-03-10', 'jp':...  02b90e02  Card  \n4  {'au': '2017-03-11', 'eu': '2017-03-10', 'jp':...  02690e02  Card  \n"
     ]
    }
   ],
   "source": [
    "print(df.head())"
   ]
  },
  {
   "cell_type": "code",
   "execution_count": 0,
   "metadata": {
    "application/vnd.databricks.v1+cell": {
     "cellMetadata": {
      "byteLimit": 2048000,
      "rowLimit": 10000
     },
     "inputWidgets": {},
     "nuid": "2d43745b-dfaa-420b-86d3-61164caa55b3",
     "showTitle": false,
     "tableResultSettingsMap": {},
     "title": ""
    }
   },
   "outputs": [],
   "source": [
    "df.to_excel(\"amibo.xlsx\")"
   ]
  },
  {
   "cell_type": "code",
   "execution_count": 0,
   "metadata": {
    "application/vnd.databricks.v1+cell": {
     "cellMetadata": {
      "byteLimit": 2048000,
      "rowLimit": 10000
     },
     "inputWidgets": {},
     "nuid": "a9ea7650-4f7b-4903-adf7-43ead29422f6",
     "showTitle": false,
     "tableResultSettingsMap": {},
     "title": ""
    }
   },
   "outputs": [
    {
     "output_type": "stream",
     "name": "stderr",
     "output_type": "stream",
     "text": [
      "/databricks/spark/python/pyspark/sql/pandas/conversion.py:467: UserWarning: createDataFrame attempted Arrow optimization because 'spark.sql.execution.arrow.pyspark.enabled' is set to true; however, failed by the reason below:\n  A field of type StructType expects a pandas.DataFrame, but got: <class 'pandas.core.series.Series'>\nAttempting non-optimization as 'spark.sql.execution.arrow.pyspark.fallback.enabled' is set to true.\n  warn(msg)\n"
     ]
    },
    {
     "output_type": "stream",
     "name": "stdout",
     "output_type": "stream",
     "text": [
      "Tabla ventas.vtn_medellin creada exitosamente.\n"
     ]
    }
   ],
   "source": [
    "\n",
    "\n",
    "\n",
    "def guardar_dataframe_en_tabla(df, nombre_tabla, base_datos=\"ventas\"):\n",
    "    \"\"\"\n",
    "    Guarda un Spark DataFrame en una tabla dentro de la base de datos especificada.\n",
    "\n",
    "    Parámetros:\n",
    "        df: Spark DataFrame que se desea guardar.\n",
    "        nombre_tabla: Nombre de la tabla donde se guardará el DataFrame.\n",
    "        base_datos: Nombre de la base de datos (esquema) donde se ubicará la tabla (por defecto \"ventas\").\n",
    "    \"\"\"\n",
    "    df[\"valor\"] = 280000\n",
    "    df_spark = spark.createDataFrame(df)\n",
    "    # Crear la base de datos si no existe\n",
    "    spark.sql(f\"CREATE DATABASE IF NOT EXISTS {base_datos}\")\n",
    "    \n",
    "    # Construir el nombre completo de la tabla\n",
    "    ruta_tabla = f\"{base_datos}.{nombre_tabla}\"\n",
    "    \n",
    "    # Guardar el DataFrame en la tabla utilizando el formato Delta (puedes cambiarlo a otro formato si lo deseas)\n",
    "    df_spark.write.format(\"delta\").mode(\"overwrite\").saveAsTable(ruta_tabla)\n",
    "    \n",
    "    print(f\"Tabla {ruta_tabla} creada exitosamente.\")\n",
    "\n",
    "# Ejemplo de uso:\n",
    "guardar_dataframe_en_tabla(df, \"vtn_medellin\")"
   ]
  }
 ],
 "metadata": {
  "application/vnd.databricks.v1+notebook": {
   "computePreferences": null,
   "dashboards": [],
   "environmentMetadata": {
    "base_environment": "",
    "client": "1"
   },
   "language": "python",
   "notebookMetadata": {
    "mostRecentlyExecutedCommandWithImplicitDF": {
     "commandId": 4452312794532737,
     "dataframes": [
      "_sqldf"
     ]
    },
    "pythonIndentUnit": 4
   },
   "notebookName": "best_practices",
   "widgets": {}
  }
 },
 "nbformat": 4,
 "nbformat_minor": 0
}
